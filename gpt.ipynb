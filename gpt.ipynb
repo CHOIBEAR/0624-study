{
 "cells": [
  {
   "cell_type": "code",
   "execution_count": 1,
   "id": "bca6c6a9",
   "metadata": {},
   "outputs": [
    {
     "name": "stdout",
     "output_type": "stream",
     "text": [
      "===== 자판기 메뉴 =====\n",
      "콜라: 1700원\n",
      "사이다: 1500원\n",
      "환타: 1600원\n",
      "물: 1000원\n",
      "콜라 5개 선택, 총 8500원입니다.\n"
     ]
    }
   ],
   "source": [
    "# 자판기 메뉴와 가격 설정\n",
    "menu = {\n",
    "    \"콜라\": 1700,\n",
    "    \"사이다\": 1500,\n",
    "    \"환타\": 1600,\n",
    "    \"물\": 1000\n",
    "}\n",
    "\n",
    "print(\"===== 자판기 메뉴 =====\")\n",
    "for item, price in menu.items():\n",
    "    print(f\"{item}: {price}원\")\n",
    "\n",
    "# 사용자 입력 받기\n",
    "선택한음료 = input(\"음료를 선택해주세요: \")\n",
    "\n",
    "if 선택한음료 in menu:\n",
    "    try:\n",
    "        수량 = int(input(\"수량을 입력해주세요: \"))\n",
    "        총금액 = menu[선택한음료] * 수량\n",
    "        print(f\"{선택한음료} {수량}개 선택, 총 {총금액}원입니다.\")\n",
    "    except ValueError:\n",
    "        print(\"수량은 숫자로 입력해주세요.\")\n",
    "else:\n",
    "    print(\"선택하신 음료는 자판기에 없습니다.\")"
   ]
  }
 ],
 "metadata": {
  "kernelspec": {
   "display_name": "Python 3",
   "language": "python",
   "name": "python3"
  },
  "language_info": {
   "codemirror_mode": {
    "name": "ipython",
    "version": 3
   },
   "file_extension": ".py",
   "mimetype": "text/x-python",
   "name": "python",
   "nbconvert_exporter": "python",
   "pygments_lexer": "ipython3",
   "version": "3.13.5"
  }
 },
 "nbformat": 4,
 "nbformat_minor": 5
}
