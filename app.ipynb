{
 "cells": [
  {
   "cell_type": "code",
   "execution_count": null,
   "id": "669a1a42",
   "metadata": {},
   "outputs": [],
   "source": [
    "반복문에서 사용되는 기능\n",
    "\n",
    "break : 강제로 종료\n",
    "continue : 다음으로 점프\n",
    "break 사용 예시\n",
    "변수 = 0"
   ]
  },
  {
   "cell_type": "code",
   "execution_count": 52,
   "id": "3103b306",
   "metadata": {},
   "outputs": [
    {
     "name": "stdout",
     "output_type": "stream",
     "text": [
      "1\n",
      "2\n",
      "3\n",
      "4\n",
      "5\n",
      "6\n",
      "7\n",
      "8\n",
      "9\n",
      "10\n",
      "11\n",
      "12\n",
      "13\n"
     ]
    }
   ],
   "source": [
    "변수 = 0\n",
    "while True:\n",
    "    변수 += 1\n",
    "    if 변수 == 14: \n",
    "        break\n",
    "    else:\n",
    "        print(변수)"
   ]
  },
  {
   "cell_type": "code",
   "execution_count": 53,
   "id": "3fdf5c2f",
   "metadata": {},
   "outputs": [
    {
     "name": "stdout",
     "output_type": "stream",
     "text": [
      "1\n",
      "3\n",
      "5\n"
     ]
    }
   ],
   "source": [
    "변수 = 0\n",
    "while 변수 < 5:\n",
    "    변수 += 1\n",
    "    if 변수%2 == 0: \n",
    "        continue\n",
    "    else:\n",
    "        print(변수)"
   ]
  },
  {
   "cell_type": "code",
   "execution_count": null,
   "id": "8afd4ea8",
   "metadata": {},
   "outputs": [],
   "source": [
    "a = True\n",
    "b = -1\n",
    "while a:\n",
    "    b += 1\n",
    "    if b == 4:\n",
    "        continue\n",
    "    print(b)"
   ]
  },
  {
   "cell_type": "code",
   "execution_count": null,
   "id": "c320ecd2",
   "metadata": {},
   "outputs": [],
   "source": [
    "a = True\n",
    "b = 0\n",
    "while a:\n",
    "    if b == 0:\n",
    "        print(b)\n",
    "\n",
    "    b += 1\n",
    "    if b == 4:\n",
    "        continue\n",
    "    print(b)"
   ]
  },
  {
   "cell_type": "code",
   "execution_count": null,
   "id": "c4e22a84",
   "metadata": {},
   "outputs": [],
   "source": [
    "시작 = 1\n",
    "끝 = 10\n",
    "while 시작 < 10:\n",
    "    if 시작 % 2 == 0:\n",
    "        시작 += 1\n",
    "        continue\n",
    "    print(f'{시작}단')\n",
    "    \n",
    "    곱 = 1\n",
    "    while 곱 < 10:\n",
    "        print(f'{시작} * {곱} = {시작 * 곱}')\n",
    "        곱 += 1\n",
    "    시작 += 1"
   ]
  },
  {
   "cell_type": "code",
   "execution_count": null,
   "id": "3139d09b",
   "metadata": {},
   "outputs": [],
   "source": [
    "시작 = 1\n",
    "끝 = 10\n",
    "while 시작 < 10:\n",
    "    if 시작 % 2 == 0:\n",
    "        break\n",
    "    print(f'{시작}단')\n",
    "    \n",
    "    곱 = 1\n",
    "    while 곱 < 10:\n",
    "        print(f'{시작} * {곱} = {시작 * 곱}')\n",
    "        곱 += 1\n",
    "    시작 += 1"
   ]
  }
 ],
 "metadata": {
  "kernelspec": {
   "display_name": "Python 3",
   "language": "python",
   "name": "python3"
  },
  "language_info": {
   "codemirror_mode": {
    "name": "ipython",
    "version": 3
   },
   "file_extension": ".py",
   "mimetype": "text/x-python",
   "name": "python",
   "nbconvert_exporter": "python",
   "pygments_lexer": "ipython3",
   "version": "3.13.5"
  }
 },
 "nbformat": 4,
 "nbformat_minor": 5
}
