{
 "cells": [
  {
   "cell_type": "code",
   "execution_count": null,
   "id": "cf36a03f",
   "metadata": {},
   "outputs": [],
   "source": [
    "a = [1,2,4,5]\n",
    "print (a)"
   ]
  },
  {
   "cell_type": "code",
   "execution_count": null,
   "id": "a3c06567",
   "metadata": {},
   "outputs": [],
   "source": [
    "for b in a:\n",
    "    print (b)"
   ]
  },
  {
   "cell_type": "code",
   "execution_count": null,
   "id": "5a8ac06f",
   "metadata": {},
   "outputs": [],
   "source": [
    "for b in range (4,10):\n",
    "    print(b)"
   ]
  },
  {
   "cell_type": "code",
   "execution_count": null,
   "id": "9586d096",
   "metadata": {},
   "outputs": [],
   "source": [
    "단 = [1,2,3,4,5,6,7,8,9]\n",
    "곱 = range(1,10)\n",
    "for a in 단:\n",
    "    print(a)\n",
    "    for b in 곱:\n",
    "        print(f'{a} * {b} = {a * b}')"
   ]
  },
  {
   "cell_type": "code",
   "execution_count": 15,
   "id": "7cb74d1c",
   "metadata": {},
   "outputs": [
    {
     "name": "stdout",
     "output_type": "stream",
     "text": [
      "1\n",
      "2\n",
      "3\n",
      "5\n",
      "[1, 2, 3, 5]\n"
     ]
    }
   ],
   "source": [
    "값 = [1,2,3,5,]\n",
    "결과 = []\n",
    "\n",
    "for 변수 in 값:\n",
    "    print(변수)\n",
    "    결과.append(변수)\n",
    "print(결과)"
   ]
  },
  {
   "cell_type": "code",
   "execution_count": null,
   "id": "e258c7ad",
   "metadata": {},
   "outputs": [],
   "source": [
    "단=[]\n",
    "곱=[]\n",
    "구구단=[[],[],[],[],[],[]]\n",
    "for 리스트 in 구구단:\n",
    "    print(리스트)\n",
    "    print(type(리스트))"
   ]
  },
  {
   "cell_type": "code",
   "execution_count": null,
   "id": "8b18d55a",
   "metadata": {},
   "outputs": [],
   "source": [
    "for 단 in range (1,10):\n",
    "    for 곱 in range (1,10):\n",
    "        print(f'{단} * {곱} = {단 * 곱}')"
   ]
  },
  {
   "cell_type": "code",
   "execution_count": null,
   "id": "d607a819",
   "metadata": {},
   "outputs": [
    {
     "name": "stdout",
     "output_type": "stream",
     "text": [
      "[['1 * 1 = 1', '1 * 2 = 2', '1 * 3 = 3', '1 * 4 = 4', '1 * 5 = 5', '1 * 6 = 6', '1 * 7 = 7', '1 * 8 = 8', '1 * 9 = 9'], ['2 * 1 = 2', '2 * 2 = 4', '2 * 3 = 6', '2 * 4 = 8', '2 * 5 = 10', '2 * 6 = 12', '2 * 7 = 14', '2 * 8 = 16', '2 * 9 = 18'], ['3 * 1 = 3', '3 * 2 = 6', '3 * 3 = 9', '3 * 4 = 12', '3 * 5 = 15', '3 * 6 = 18', '3 * 7 = 21', '3 * 8 = 24', '3 * 9 = 27'], ['4 * 1 = 4', '4 * 2 = 8', '4 * 3 = 12', '4 * 4 = 16', '4 * 5 = 20', '4 * 6 = 24', '4 * 7 = 28', '4 * 8 = 32', '4 * 9 = 36'], ['5 * 1 = 5', '5 * 2 = 10', '5 * 3 = 15', '5 * 4 = 20', '5 * 5 = 25', '5 * 6 = 30', '5 * 7 = 35', '5 * 8 = 40', '5 * 9 = 45'], ['6 * 1 = 6', '6 * 2 = 12', '6 * 3 = 18', '6 * 4 = 24', '6 * 5 = 30', '6 * 6 = 36', '6 * 7 = 42', '6 * 8 = 48', '6 * 9 = 54'], ['7 * 1 = 7', '7 * 2 = 14', '7 * 3 = 21', '7 * 4 = 28', '7 * 5 = 35', '7 * 6 = 42', '7 * 7 = 49', '7 * 8 = 56', '7 * 9 = 63'], ['8 * 1 = 8', '8 * 2 = 16', '8 * 3 = 24', '8 * 4 = 32', '8 * 5 = 40', '8 * 6 = 48', '8 * 7 = 56', '8 * 8 = 64', '8 * 9 = 72'], ['9 * 1 = 9', '9 * 2 = 18', '9 * 3 = 27', '9 * 4 = 36', '9 * 5 = 45', '9 * 6 = 54', '9 * 7 = 63', '9 * 8 = 72', '9 * 9 = 81']]\n"
     ]
    }
   ],
   "source": [
    "결과 = []\n",
    "for 단 in range (1,10):\n",
    "    빈배열 = []\n",
    "    for 곱 in range (1,10):\n",
    "        빈배열.append (f'{단} * {곱} = {단 * 곱}')\n",
    "    결과.append(빈배열)\n",
    "    \n",
    "print(결과)"
   ]
  },
  {
   "cell_type": "code",
   "execution_count": 18,
   "id": "ed3754ed",
   "metadata": {},
   "outputs": [
    {
     "name": "stdout",
     "output_type": "stream",
     "text": [
      "10\n"
     ]
    }
   ],
   "source": [
    "배열 = [1,2,3]\n",
    "배열[1] = 10\n",
    "print(배열[1])\n"
   ]
  }
 ],
 "metadata": {
  "kernelspec": {
   "display_name": "Python 3",
   "language": "python",
   "name": "python3"
  },
  "language_info": {
   "codemirror_mode": {
    "name": "ipython",
    "version": 3
   },
   "file_extension": ".py",
   "mimetype": "text/x-python",
   "name": "python",
   "nbconvert_exporter": "python",
   "pygments_lexer": "ipython3",
   "version": "3.13.5"
  }
 },
 "nbformat": 4,
 "nbformat_minor": 5
}
